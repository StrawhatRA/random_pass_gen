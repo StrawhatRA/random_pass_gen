{
 "cells": [
  {
   "cell_type": "code",
   "execution_count": 8,
   "metadata": {},
   "outputs": [
    {
     "name": "stdout",
     "output_type": "stream",
     "text": [
      "Urk2p12Z\n"
     ]
    }
   ],
   "source": [
    "import random\n",
    "\n",
    "#A function do shuffle all the characters of a string\n",
    "def shuffle(string):\n",
    "  tempList = list(string)\n",
    "  random.shuffle(tempList)\n",
    "  return ''.join(tempList)\n",
    "\n",
    "#Main program starts here\n",
    "uppercaseLetter1=chr(random.randint(65,90)) #Generate a random Uppercase letter (based on ASCII code)\n",
    "uppercaseLetter2=chr(random.randint(65,90)) #Generate a random Uppercase letter (based on ASCII code)\n",
    "lowercaseLetter1=chr(random.randint(97,122))\n",
    "lowercaseLetter2=chr(random.randint(97,122))\n",
    "digit1=chr(random.randint(48,57))\n",
    "digit2=chr(random.randint(48,57))\n",
    "punctuationSign1=chr(random.randint(32,152))\n",
    "punctuationSign2=chr(random.randint(32,152))\n",
    "#Generate password using all the characters, in random order\n",
    "password = uppercaseLetter1 + uppercaseLetter2 + lowercaseLetter1 + lowercaseLetter2 + digit1 + digit2 +punctuationSign1 + punctuationSign2\n",
    "password = shuffle(password)\n",
    "\n",
    "#Ouput\n",
    "print(password)"
   ]
  }
 ],
 "metadata": {
  "kernelspec": {
   "display_name": "Python 3.7.10 ('dev')",
   "language": "python",
   "name": "python3"
  },
  "language_info": {
   "codemirror_mode": {
    "name": "ipython",
    "version": 3
   },
   "file_extension": ".py",
   "mimetype": "text/x-python",
   "name": "python",
   "nbconvert_exporter": "python",
   "pygments_lexer": "ipython3",
   "version": "3.7.10"
  },
  "orig_nbformat": 4,
  "vscode": {
   "interpreter": {
    "hash": "98ee38be0939decb2c450af6be4305df393a2261221c82d22f8896f9b1bfdabc"
   }
  }
 },
 "nbformat": 4,
 "nbformat_minor": 2
}
